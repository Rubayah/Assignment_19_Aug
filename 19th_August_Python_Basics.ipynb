{
 "cells": [
  {
   "cell_type": "markdown",
   "id": "66f9cd76-99c5-46cd-8047-4f813e554e30",
   "metadata": {},
   "source": [
    "TOPIC: Python Basics Variable"
   ]
  },
  {
   "cell_type": "markdown",
   "id": "2df628b7-2b6b-44ef-865d-50a70a7f2dd7",
   "metadata": {},
   "source": [
    "1. Declare two variables, `x` and `y`, and assign them integer values. \n",
    "   Swap the values of these variables without using any temporary variable.\n",
    "   "
   ]
  },
  {
   "cell_type": "code",
   "execution_count": 58,
   "id": "05c79ab7-e034-4068-8981-31022e00fbd9",
   "metadata": {},
   "outputs": [
    {
     "name": "stdout",
     "output_type": "stream",
     "text": [
      "x =  50\n",
      "y =  100\n",
      "After swapping\n",
      "x =  100\n",
      "y =  50\n"
     ]
    }
   ],
   "source": [
    "# declare variables x and y with values assigned \n",
    "x , y = 50 , 100\n",
    "\n",
    "# print x and y \n",
    "print(\"x = \",x)\n",
    "print(\"y = \",y)\n",
    "\n",
    "# swap values of variables without a temp varaible\n",
    "x , y = y , x \n",
    "\n",
    "## print swapped x and y\n",
    "print(\"After swapping\")\n",
    "print(\"x = \",x)\n",
    "print(\"y = \",y)"
   ]
  },
  {
   "cell_type": "markdown",
   "id": "311b6a18-c5d7-4fe2-bbe0-b68fdfa2533c",
   "metadata": {},
   "source": [
    "Here , variables are swapped using tuple packing and unpacking , where x,y are packed with a temporary tuple (y,x) and\n",
    "then the values are unpacked back to x and y, effectively swapping values.  "
   ]
  },
  {
   "cell_type": "markdown",
   "id": "6ed119aa-6e37-486b-8e92-55d4f60703f1",
   "metadata": {},
   "source": [
    "2. Create a program that calculates the area of a rectangle. Take the length and\n",
    "width as inputs from the user and store them in variables. Calculate and\n",
    "display the area."
   ]
  },
  {
   "cell_type": "code",
   "execution_count": 9,
   "id": "1644afad-1ff4-4bfd-81ae-9f5d77c4478a",
   "metadata": {},
   "outputs": [
    {
     "name": "stdin",
     "output_type": "stream",
     "text": [
      "Enter the length of a rectangle 10\n",
      "Enter the width of a rectangle 20.0\n"
     ]
    },
    {
     "name": "stdout",
     "output_type": "stream",
     "text": [
      "Area of a Rectangle =  200.0\n"
     ]
    }
   ],
   "source": [
    "# Input length and width from the user into a variable\n",
    "l = float(input(\"Enter the length of a rectangle\"))\n",
    "w = float(input(\"Enter the width of a rectangle\"))\n",
    "\n",
    "# Calculate area of a rectangle\n",
    "area = l*w\n",
    "\n",
    "# Displaying the area \n",
    "print(\"Area of a Rectangle = \" , area)"
   ]
  },
  {
   "cell_type": "markdown",
   "id": "79db5ad2-9db1-4636-885e-e7f380566414",
   "metadata": {},
   "source": [
    "Here , area is calculated simply by inputting length and width and calculating area using the formula A= lw ."
   ]
  },
  {
   "cell_type": "markdown",
   "id": "1a8eb30c-c1ca-4ef2-917b-d5948da26fe6",
   "metadata": {},
   "source": [
    "3. Write a Python program that converts temperatures from Celsius to\n",
    "Fahrenheit. Take the temperature in Celsius as input, store it in a variable,\n",
    "convert it to Fahrenheit, and display the result.\n"
   ]
  },
  {
   "cell_type": "code",
   "execution_count": 3,
   "id": "339d9867-4aa3-49ba-8046-466839541e2c",
   "metadata": {},
   "outputs": [
    {
     "name": "stdin",
     "output_type": "stream",
     "text": [
      "Enter the temperature in Celsius 37\n"
     ]
    },
    {
     "name": "stdout",
     "output_type": "stream",
     "text": [
      "37.0 degree Celsius to Fahrenheit is 98.6\n"
     ]
    }
   ],
   "source": [
    "# Inputting temperature from user and storing it into a variable \n",
    "temp_c=float(input(\"Enter the temperature in Celsius\"))\n",
    "\n",
    "# Calculating the temperature in Fahrenheit\n",
    "temp_f=(temp_c*9/5)+32\n",
    "\n",
    "# Displaying temperature in Fahrenheit\n",
    "print(temp_c,\"degree Celsius to Fahrenheit is\", temp_f)\n",
    "\n"
   ]
  },
  {
   "cell_type": "markdown",
   "id": "6c9e33f4-a8d7-4c60-a894-b5c033435042",
   "metadata": {},
   "source": [
    "Here, the temperature in Celsius is converted into Fahrenheit using the formula F=(C*9/5)+32"
   ]
  },
  {
   "cell_type": "markdown",
   "id": "393e5a9e-e103-4cf6-9dcf-2cb4a9c2f910",
   "metadata": {},
   "source": [
    "TOPIC: String Based Questions"
   ]
  },
  {
   "cell_type": "markdown",
   "id": "cdff5663-e0b3-453e-83af-0c50996e304d",
   "metadata": {},
   "source": [
    "1. Write a Python program that takes a string as input and prints the length of\n",
    "the string."
   ]
  },
  {
   "cell_type": "code",
   "execution_count": 5,
   "id": "f64d24b2-0ab4-47b2-a2ff-48c6c409b402",
   "metadata": {},
   "outputs": [
    {
     "name": "stdin",
     "output_type": "stream",
     "text": [
      "Enter a string: tomato\n"
     ]
    },
    {
     "name": "stdout",
     "output_type": "stream",
     "text": [
      "Length of the string is: 6\n"
     ]
    }
   ],
   "source": [
    "# Input a string from the user\n",
    "string=input(\"Enter a string:\")\n",
    "\n",
    "# displaying length of the string\n",
    "print(\"Length of the string is:\",len(string))\n"
   ]
  },
  {
   "cell_type": "markdown",
   "id": "c0537701-8182-4647-b7d8-59721a4b88cc",
   "metadata": {},
   "source": [
    "Here, length of the string is found by using the len()"
   ]
  },
  {
   "cell_type": "markdown",
   "id": "6233a64e-f073-4b44-b43c-69b3722be153",
   "metadata": {},
   "source": [
    "2. Create a program that takes a sentence from the user and counts the number\n",
    "of vowels (a, e, i, o, u) in the string."
   ]
  },
  {
   "cell_type": "code",
   "execution_count": 36,
   "id": "e36e052e-c1bb-4c39-898a-7a5b3a03f869",
   "metadata": {},
   "outputs": [
    {
     "name": "stdin",
     "output_type": "stream",
     "text": [
      "Enter a sentence: My name is Rubayah \n"
     ]
    },
    {
     "name": "stdout",
     "output_type": "stream",
     "text": [
      "Count of vowels in the sentence is : 6\n"
     ]
    }
   ],
   "source": [
    "# Input a string from the user\n",
    "sentence=input(\"Enter a sentence:\")\n",
    "sentence.lower()\n",
    "\n",
    "# Defining characters in vowels\n",
    "vowels=\"aeiou\"\n",
    "\n",
    "# Initializing a counter to for vowels\n",
    "v_count=0\n",
    "\n",
    "# displaying count of the vowels in a sentence\n",
    "for char in sentence:\n",
    "    if char in vowels:\n",
    "        v_count=v_count+1\n",
    "print(\"Count of vowels in the sentence is :\",v_count)    "
   ]
  },
  {
   "cell_type": "markdown",
   "id": "0a43374c-fc46-4d2b-a5c2-e1498990fdb8",
   "metadata": {},
   "source": [
    "Here, count of the vowels were found by using a 'for' loop for iteration of each character through the sentence and, 'if' was used to check if the character was present in vowels. The 'counter' variable then would keeping adding the count. 'lower()' was used to ensure both lower and upper case was counted as vowels."
   ]
  },
  {
   "cell_type": "markdown",
   "id": "f2a2a3ba-8f83-4ea2-9d22-440e8e7edbbc",
   "metadata": {},
   "source": [
    "3. Given a string, reverse the order of characters using string slicing and print\n",
    "the reversed string."
   ]
  },
  {
   "cell_type": "code",
   "execution_count": 66,
   "id": "7d9f7265-bb82-4f12-9a36-9689ee5b139b",
   "metadata": {},
   "outputs": [
    {
     "name": "stdout",
     "output_type": "stream",
     "text": [
      "The reversed string is : lio wen eht si ataD\n"
     ]
    }
   ],
   "source": [
    "# Initializing a string to a variable\n",
    "string=\"Data is the new oil\"\n",
    "\n",
    "# Reversing the order of characters\n",
    "string_r=string[-1::-1]\n",
    "\n",
    "#printing the reversed string \n",
    "print(\"The reversed string is :\",string_r)"
   ]
  },
  {
   "cell_type": "markdown",
   "id": "caf7f209-b2fa-42e3-a1cd-906368e63373",
   "metadata": {},
   "source": [
    "4. Write a program that takes a string as input and checks if it is a palindrome\n",
    "(reads the same forwards and backwards)."
   ]
  },
  {
   "cell_type": "code",
   "execution_count": 46,
   "id": "a9af58a9-3c74-4b60-b683-1009c395d2af",
   "metadata": {},
   "outputs": [
    {
     "name": "stdin",
     "output_type": "stream",
     "text": [
      "Enter a string: Civic\n"
     ]
    },
    {
     "name": "stdout",
     "output_type": "stream",
     "text": [
      "Reversed string is: civic\n",
      "String is a Palindrome\n"
     ]
    }
   ],
   "source": [
    "# Input string from the user\n",
    "string=input(\"Enter a string:\")\n",
    "\n",
    "# Converting string to lower case\n",
    "string=string.lower()\n",
    "\n",
    "# Declaring a variable to store reversed string\n",
    "string_rev=''.join(reversed(string))\n",
    "\n",
    "# Displaying reversed string\n",
    "print(\"Reversed string is:\",string_rev)\n",
    "\n",
    "# Checking if the entered string is equal to the reversed string\n",
    "if string==string_rev:\n",
    "    print(\"String is a Palindrome\")\n",
    "else:\n",
    "    print(\"String is not a Palindrome\")\n"
   ]
  },
  {
   "cell_type": "markdown",
   "id": "e85bee69-3e7a-466d-952b-e505882d5284",
   "metadata": {},
   "source": [
    "Here, Palindrome is checked using reversed() that returns iterator of characters in reverse order which is then joined \n",
    "using the join(). Both the strings are then checked for palindrome using a if statement."
   ]
  },
  {
   "cell_type": "markdown",
   "id": "53d87770-55cc-4d7d-856f-bc7522b37a1a",
   "metadata": {},
   "source": [
    "5. Create a program that takes a string as input and removes all the spaces from\n",
    "it. Print the modified string without spaces."
   ]
  },
  {
   "cell_type": "code",
   "execution_count": 54,
   "id": "4cdd9f43-308d-4c96-a18c-f5e2668cbab6",
   "metadata": {},
   "outputs": [
    {
     "name": "stdin",
     "output_type": "stream",
     "text": [
      "Enter a string: My name is Rubayah\n"
     ]
    },
    {
     "name": "stdout",
     "output_type": "stream",
     "text": [
      "Modified string: MynameisRubayah\n"
     ]
    }
   ],
   "source": [
    "# Input string from the user\n",
    "string=input(\"Enter a string:\")\n",
    "\n",
    "# Remove string using replace()\n",
    "mod_string= string.replace(\" \",\"\")\n",
    "\n",
    "# Print the modified string \n",
    "print(\"Modified string:\", mod_string)\n"
   ]
  },
  {
   "cell_type": "markdown",
   "id": "818d9dd0-8f6b-44ac-86d1-64573caf2248",
   "metadata": {},
   "source": [
    "Here, the string has been modified by using the replace(), which replaced the space with an empty string .\n"
   ]
  }
 ],
 "metadata": {
  "kernelspec": {
   "display_name": "Python 3 (ipykernel)",
   "language": "python",
   "name": "python3"
  },
  "language_info": {
   "codemirror_mode": {
    "name": "ipython",
    "version": 3
   },
   "file_extension": ".py",
   "mimetype": "text/x-python",
   "name": "python",
   "nbconvert_exporter": "python",
   "pygments_lexer": "ipython3",
   "version": "3.10.8"
  }
 },
 "nbformat": 4,
 "nbformat_minor": 5
}
